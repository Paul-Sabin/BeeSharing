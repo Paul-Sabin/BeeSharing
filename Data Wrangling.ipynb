{
 "cells": [
  {
   "cell_type": "code",
   "execution_count": 2,
   "metadata": {},
   "outputs": [],
   "source": [
    "import pandas as pd"
   ]
  },
  {
   "cell_type": "markdown",
   "metadata": {},
   "source": [
    "Import CSV"
   ]
  },
  {
   "cell_type": "code",
   "execution_count": 3,
   "metadata": {},
   "outputs": [],
   "source": [
    "df = pd.read_csv('CropPol_field_level_data.csv')"
   ]
  },
  {
   "cell_type": "code",
   "execution_count": 3,
   "metadata": {},
   "outputs": [
    {
     "data": {
      "text/html": [
       "<div>\n",
       "<style scoped>\n",
       "    .dataframe tbody tr th:only-of-type {\n",
       "        vertical-align: middle;\n",
       "    }\n",
       "\n",
       "    .dataframe tbody tr th {\n",
       "        vertical-align: top;\n",
       "    }\n",
       "\n",
       "    .dataframe thead th {\n",
       "        text-align: right;\n",
       "    }\n",
       "</style>\n",
       "<table border=\"1\" class=\"dataframe\">\n",
       "  <thead>\n",
       "    <tr style=\"text-align: right;\">\n",
       "      <th></th>\n",
       "      <th>study_id</th>\n",
       "      <th>site_id</th>\n",
       "      <th>crop</th>\n",
       "      <th>variety</th>\n",
       "      <th>management</th>\n",
       "      <th>country</th>\n",
       "      <th>latitude</th>\n",
       "      <th>longitude</th>\n",
       "      <th>X_UTM</th>\n",
       "      <th>Y_UTM</th>\n",
       "      <th>...</th>\n",
       "      <th>visit_humbleflies</th>\n",
       "      <th>visit_other_flies</th>\n",
       "      <th>visit_beetles</th>\n",
       "      <th>visit_lepidoptera</th>\n",
       "      <th>visit_nonbee_hymenoptera</th>\n",
       "      <th>visit_others</th>\n",
       "      <th>Publication</th>\n",
       "      <th>Credit</th>\n",
       "      <th>Email_contact</th>\n",
       "      <th>notes</th>\n",
       "    </tr>\n",
       "  </thead>\n",
       "  <tbody>\n",
       "    <tr>\n",
       "      <th>0</th>\n",
       "      <td>Agustin_Saez_Rubus_idaeus_Argentina_2014</td>\n",
       "      <td>Arroyo Claro</td>\n",
       "      <td>Rubus idaeus</td>\n",
       "      <td>Autumn bliss</td>\n",
       "      <td>organic</td>\n",
       "      <td>Argentina</td>\n",
       "      <td>-41.945183</td>\n",
       "      <td>-71.520683</td>\n",
       "      <td>NaN</td>\n",
       "      <td>NaN</td>\n",
       "      <td>...</td>\n",
       "      <td>NaN</td>\n",
       "      <td>NaN</td>\n",
       "      <td>NaN</td>\n",
       "      <td>NaN</td>\n",
       "      <td>NaN</td>\n",
       "      <td>NaN</td>\n",
       "      <td>10.1126/science.aac7287</td>\n",
       "      <td>Agustin Saez/CONICET (Universidad Nacional del...</td>\n",
       "      <td>agustinsaez@live.com.ar</td>\n",
       "      <td>NaN</td>\n",
       "    </tr>\n",
       "    <tr>\n",
       "      <th>1</th>\n",
       "      <td>Agustin_Saez_Rubus_idaeus_Argentina_2014</td>\n",
       "      <td>Miguel</td>\n",
       "      <td>Rubus idaeus</td>\n",
       "      <td>Autumn bliss</td>\n",
       "      <td>organic</td>\n",
       "      <td>Argentina</td>\n",
       "      <td>-42.010350</td>\n",
       "      <td>-71.528050</td>\n",
       "      <td>NaN</td>\n",
       "      <td>NaN</td>\n",
       "      <td>...</td>\n",
       "      <td>NaN</td>\n",
       "      <td>NaN</td>\n",
       "      <td>NaN</td>\n",
       "      <td>NaN</td>\n",
       "      <td>NaN</td>\n",
       "      <td>NaN</td>\n",
       "      <td>10.1126/science.aac7287</td>\n",
       "      <td>Agustin Saez/CONICET (Universidad Nacional del...</td>\n",
       "      <td>agustinsaez@live.com.ar</td>\n",
       "      <td>NaN</td>\n",
       "    </tr>\n",
       "    <tr>\n",
       "      <th>2</th>\n",
       "      <td>Agustin_Saez_Rubus_idaeus_Argentina_2014</td>\n",
       "      <td>Marcelino</td>\n",
       "      <td>Rubus idaeus</td>\n",
       "      <td>Autumn bliss</td>\n",
       "      <td>organic</td>\n",
       "      <td>Argentina</td>\n",
       "      <td>-42.115781</td>\n",
       "      <td>-71.438620</td>\n",
       "      <td>NaN</td>\n",
       "      <td>NaN</td>\n",
       "      <td>...</td>\n",
       "      <td>NaN</td>\n",
       "      <td>NaN</td>\n",
       "      <td>NaN</td>\n",
       "      <td>NaN</td>\n",
       "      <td>NaN</td>\n",
       "      <td>NaN</td>\n",
       "      <td>10.1126/science.aac7287</td>\n",
       "      <td>Agustin Saez/CONICET (Universidad Nacional del...</td>\n",
       "      <td>agustinsaez@live.com.ar</td>\n",
       "      <td>NaN</td>\n",
       "    </tr>\n",
       "    <tr>\n",
       "      <th>3</th>\n",
       "      <td>Agustin_Saez_Rubus_idaeus_Argentina_2014</td>\n",
       "      <td>Valle del Medio</td>\n",
       "      <td>Rubus idaeus</td>\n",
       "      <td>Autumn bliss</td>\n",
       "      <td>organic</td>\n",
       "      <td>Argentina</td>\n",
       "      <td>-41.999750</td>\n",
       "      <td>-71.552483</td>\n",
       "      <td>NaN</td>\n",
       "      <td>NaN</td>\n",
       "      <td>...</td>\n",
       "      <td>NaN</td>\n",
       "      <td>NaN</td>\n",
       "      <td>NaN</td>\n",
       "      <td>NaN</td>\n",
       "      <td>NaN</td>\n",
       "      <td>NaN</td>\n",
       "      <td>10.1126/science.aac7287</td>\n",
       "      <td>Agustin Saez/CONICET (Universidad Nacional del...</td>\n",
       "      <td>agustinsaez@live.com.ar</td>\n",
       "      <td>NaN</td>\n",
       "    </tr>\n",
       "    <tr>\n",
       "      <th>4</th>\n",
       "      <td>Agustin_Saez_Rubus_idaeus_Argentina_2014</td>\n",
       "      <td>Omar</td>\n",
       "      <td>Rubus idaeus</td>\n",
       "      <td>Autumn bliss</td>\n",
       "      <td>organic</td>\n",
       "      <td>Argentina</td>\n",
       "      <td>-42.125874</td>\n",
       "      <td>-71.423180</td>\n",
       "      <td>NaN</td>\n",
       "      <td>NaN</td>\n",
       "      <td>...</td>\n",
       "      <td>NaN</td>\n",
       "      <td>NaN</td>\n",
       "      <td>NaN</td>\n",
       "      <td>NaN</td>\n",
       "      <td>NaN</td>\n",
       "      <td>NaN</td>\n",
       "      <td>10.1126/science.aac7287</td>\n",
       "      <td>Agustin Saez/CONICET (Universidad Nacional del...</td>\n",
       "      <td>agustinsaez@live.com.ar</td>\n",
       "      <td>NaN</td>\n",
       "    </tr>\n",
       "  </tbody>\n",
       "</table>\n",
       "<p>5 rows × 65 columns</p>\n",
       "</div>"
      ],
      "text/plain": [
       "                                   study_id          site_id          crop  \\\n",
       "0  Agustin_Saez_Rubus_idaeus_Argentina_2014     Arroyo Claro  Rubus idaeus   \n",
       "1  Agustin_Saez_Rubus_idaeus_Argentina_2014           Miguel  Rubus idaeus   \n",
       "2  Agustin_Saez_Rubus_idaeus_Argentina_2014        Marcelino  Rubus idaeus   \n",
       "3  Agustin_Saez_Rubus_idaeus_Argentina_2014  Valle del Medio  Rubus idaeus   \n",
       "4  Agustin_Saez_Rubus_idaeus_Argentina_2014             Omar  Rubus idaeus   \n",
       "\n",
       "        variety management    country   latitude  longitude  X_UTM  Y_UTM  \\\n",
       "0  Autumn bliss    organic  Argentina -41.945183 -71.520683    NaN    NaN   \n",
       "1  Autumn bliss    organic  Argentina -42.010350 -71.528050    NaN    NaN   \n",
       "2  Autumn bliss    organic  Argentina -42.115781 -71.438620    NaN    NaN   \n",
       "3  Autumn bliss    organic  Argentina -41.999750 -71.552483    NaN    NaN   \n",
       "4  Autumn bliss    organic  Argentina -42.125874 -71.423180    NaN    NaN   \n",
       "\n",
       "   ... visit_humbleflies  visit_other_flies  visit_beetles visit_lepidoptera  \\\n",
       "0  ...               NaN                NaN            NaN               NaN   \n",
       "1  ...               NaN                NaN            NaN               NaN   \n",
       "2  ...               NaN                NaN            NaN               NaN   \n",
       "3  ...               NaN                NaN            NaN               NaN   \n",
       "4  ...               NaN                NaN            NaN               NaN   \n",
       "\n",
       "   visit_nonbee_hymenoptera  visit_others              Publication  \\\n",
       "0                       NaN           NaN  10.1126/science.aac7287   \n",
       "1                       NaN           NaN  10.1126/science.aac7287   \n",
       "2                       NaN           NaN  10.1126/science.aac7287   \n",
       "3                       NaN           NaN  10.1126/science.aac7287   \n",
       "4                       NaN           NaN  10.1126/science.aac7287   \n",
       "\n",
       "                                              Credit            Email_contact  \\\n",
       "0  Agustin Saez/CONICET (Universidad Nacional del...  agustinsaez@live.com.ar   \n",
       "1  Agustin Saez/CONICET (Universidad Nacional del...  agustinsaez@live.com.ar   \n",
       "2  Agustin Saez/CONICET (Universidad Nacional del...  agustinsaez@live.com.ar   \n",
       "3  Agustin Saez/CONICET (Universidad Nacional del...  agustinsaez@live.com.ar   \n",
       "4  Agustin Saez/CONICET (Universidad Nacional del...  agustinsaez@live.com.ar   \n",
       "\n",
       "   notes  \n",
       "0    NaN  \n",
       "1    NaN  \n",
       "2    NaN  \n",
       "3    NaN  \n",
       "4    NaN  \n",
       "\n",
       "[5 rows x 65 columns]"
      ]
     },
     "metadata": {},
     "output_type": "display_data"
    }
   ],
   "source": [
    "display(df.head())"
   ]
  },
  {
   "cell_type": "markdown",
   "metadata": {},
   "source": [
    "Describe contents"
   ]
  },
  {
   "cell_type": "code",
   "execution_count": 4,
   "metadata": {},
   "outputs": [
    {
     "data": {
      "text/html": [
       "<div>\n",
       "<style scoped>\n",
       "    .dataframe tbody tr th:only-of-type {\n",
       "        vertical-align: middle;\n",
       "    }\n",
       "\n",
       "    .dataframe tbody tr th {\n",
       "        vertical-align: top;\n",
       "    }\n",
       "\n",
       "    .dataframe thead th {\n",
       "        text-align: right;\n",
       "    }\n",
       "</style>\n",
       "<table border=\"1\" class=\"dataframe\">\n",
       "  <thead>\n",
       "    <tr style=\"text-align: right;\">\n",
       "      <th></th>\n",
       "      <th>latitude</th>\n",
       "      <th>longitude</th>\n",
       "      <th>X_UTM</th>\n",
       "      <th>Y_UTM</th>\n",
       "      <th>sampling_start_month</th>\n",
       "      <th>sampling_end_month</th>\n",
       "      <th>field_size</th>\n",
       "      <th>yield</th>\n",
       "      <th>yield2</th>\n",
       "      <th>yield_treatments_no_pollinators</th>\n",
       "      <th>...</th>\n",
       "      <th>visit_honeybee</th>\n",
       "      <th>visit_bombus</th>\n",
       "      <th>visit_wildbees</th>\n",
       "      <th>visit_syrphids</th>\n",
       "      <th>visit_humbleflies</th>\n",
       "      <th>visit_other_flies</th>\n",
       "      <th>visit_beetles</th>\n",
       "      <th>visit_lepidoptera</th>\n",
       "      <th>visit_nonbee_hymenoptera</th>\n",
       "      <th>visit_others</th>\n",
       "    </tr>\n",
       "  </thead>\n",
       "  <tbody>\n",
       "    <tr>\n",
       "      <th>count</th>\n",
       "      <td>3022.000000</td>\n",
       "      <td>3022.000000</td>\n",
       "      <td>4.260000e+02</td>\n",
       "      <td>4.260000e+02</td>\n",
       "      <td>2138.000000</td>\n",
       "      <td>2138.000000</td>\n",
       "      <td>1329.000000</td>\n",
       "      <td>2.552000e+03</td>\n",
       "      <td>1556.000000</td>\n",
       "      <td>925.000000</td>\n",
       "      <td>...</td>\n",
       "      <td>1998.000000</td>\n",
       "      <td>1990.000000</td>\n",
       "      <td>1956.000000</td>\n",
       "      <td>1816.000000</td>\n",
       "      <td>1060.000000</td>\n",
       "      <td>1168.000000</td>\n",
       "      <td>996.000000</td>\n",
       "      <td>1060.000000</td>\n",
       "      <td>1258.000000</td>\n",
       "      <td>1058.000000</td>\n",
       "    </tr>\n",
       "    <tr>\n",
       "      <th>mean</th>\n",
       "      <td>31.095755</td>\n",
       "      <td>-33.157792</td>\n",
       "      <td>5.389457e+05</td>\n",
       "      <td>5.528470e+06</td>\n",
       "      <td>5.653882</td>\n",
       "      <td>6.228718</td>\n",
       "      <td>549.528729</td>\n",
       "      <td>4.867523e+03</td>\n",
       "      <td>87.182394</td>\n",
       "      <td>29.229014</td>\n",
       "      <td>...</td>\n",
       "      <td>44.360567</td>\n",
       "      <td>3.221076</td>\n",
       "      <td>7.837136</td>\n",
       "      <td>5.375810</td>\n",
       "      <td>1.310054</td>\n",
       "      <td>4.182063</td>\n",
       "      <td>0.852512</td>\n",
       "      <td>0.421118</td>\n",
       "      <td>4.640709</td>\n",
       "      <td>0.693204</td>\n",
       "    </tr>\n",
       "    <tr>\n",
       "      <th>std</th>\n",
       "      <td>24.689600</td>\n",
       "      <td>72.000276</td>\n",
       "      <td>1.167654e+06</td>\n",
       "      <td>2.792896e+06</td>\n",
       "      <td>2.337050</td>\n",
       "      <td>2.211676</td>\n",
       "      <td>4348.363675</td>\n",
       "      <td>4.234786e+04</td>\n",
       "      <td>604.942829</td>\n",
       "      <td>136.818806</td>\n",
       "      <td>...</td>\n",
       "      <td>338.850210</td>\n",
       "      <td>22.580473</td>\n",
       "      <td>112.570643</td>\n",
       "      <td>75.685399</td>\n",
       "      <td>21.320282</td>\n",
       "      <td>31.143693</td>\n",
       "      <td>9.435716</td>\n",
       "      <td>8.503293</td>\n",
       "      <td>61.639296</td>\n",
       "      <td>7.405738</td>\n",
       "    </tr>\n",
       "    <tr>\n",
       "      <th>min</th>\n",
       "      <td>-42.127667</td>\n",
       "      <td>-123.197929</td>\n",
       "      <td>-4.069306e+06</td>\n",
       "      <td>1.424900e+05</td>\n",
       "      <td>1.000000</td>\n",
       "      <td>1.000000</td>\n",
       "      <td>0.000375</td>\n",
       "      <td>-1.770894e+00</td>\n",
       "      <td>-1.414558</td>\n",
       "      <td>-2.221444</td>\n",
       "      <td>...</td>\n",
       "      <td>0.000000</td>\n",
       "      <td>0.000000</td>\n",
       "      <td>0.000000</td>\n",
       "      <td>0.000000</td>\n",
       "      <td>0.000000</td>\n",
       "      <td>0.000000</td>\n",
       "      <td>0.000000</td>\n",
       "      <td>0.000000</td>\n",
       "      <td>0.000000</td>\n",
       "      <td>0.000000</td>\n",
       "    </tr>\n",
       "    <tr>\n",
       "      <th>25%</th>\n",
       "      <td>19.209942</td>\n",
       "      <td>-85.758000</td>\n",
       "      <td>3.449599e+05</td>\n",
       "      <td>3.898002e+06</td>\n",
       "      <td>4.000000</td>\n",
       "      <td>5.000000</td>\n",
       "      <td>0.950000</td>\n",
       "      <td>1.388622e+00</td>\n",
       "      <td>0.690153</td>\n",
       "      <td>0.354346</td>\n",
       "      <td>...</td>\n",
       "      <td>0.059535</td>\n",
       "      <td>0.000000</td>\n",
       "      <td>0.000000</td>\n",
       "      <td>0.000000</td>\n",
       "      <td>0.000000</td>\n",
       "      <td>0.000000</td>\n",
       "      <td>0.000000</td>\n",
       "      <td>0.000000</td>\n",
       "      <td>0.000000</td>\n",
       "      <td>0.000000</td>\n",
       "    </tr>\n",
       "    <tr>\n",
       "      <th>50%</th>\n",
       "      <td>40.680000</td>\n",
       "      <td>-68.271840</td>\n",
       "      <td>4.839776e+05</td>\n",
       "      <td>5.272839e+06</td>\n",
       "      <td>5.000000</td>\n",
       "      <td>6.000000</td>\n",
       "      <td>2.832800</td>\n",
       "      <td>1.230000e+01</td>\n",
       "      <td>1.000000</td>\n",
       "      <td>0.627165</td>\n",
       "      <td>...</td>\n",
       "      <td>0.977406</td>\n",
       "      <td>0.000000</td>\n",
       "      <td>0.027804</td>\n",
       "      <td>0.000000</td>\n",
       "      <td>0.000000</td>\n",
       "      <td>0.000000</td>\n",
       "      <td>0.000000</td>\n",
       "      <td>0.000000</td>\n",
       "      <td>0.000000</td>\n",
       "      <td>0.000000</td>\n",
       "    </tr>\n",
       "    <tr>\n",
       "      <th>75%</th>\n",
       "      <td>47.020601</td>\n",
       "      <td>9.592493</td>\n",
       "      <td>6.426535e+05</td>\n",
       "      <td>8.516152e+06</td>\n",
       "      <td>7.000000</td>\n",
       "      <td>7.000000</td>\n",
       "      <td>10.000000</td>\n",
       "      <td>5.612232e+01</td>\n",
       "      <td>15.725360</td>\n",
       "      <td>3.709500</td>\n",
       "      <td>...</td>\n",
       "      <td>9.750000</td>\n",
       "      <td>0.332531</td>\n",
       "      <td>0.482701</td>\n",
       "      <td>0.020779</td>\n",
       "      <td>0.000000</td>\n",
       "      <td>0.014174</td>\n",
       "      <td>0.000000</td>\n",
       "      <td>0.000000</td>\n",
       "      <td>0.000000</td>\n",
       "      <td>0.000000</td>\n",
       "    </tr>\n",
       "    <tr>\n",
       "      <th>max</th>\n",
       "      <td>59.865284</td>\n",
       "      <td>176.320387</td>\n",
       "      <td>4.326346e+06</td>\n",
       "      <td>9.757262e+06</td>\n",
       "      <td>12.000000</td>\n",
       "      <td>12.000000</td>\n",
       "      <td>84573.000000</td>\n",
       "      <td>1.500000e+06</td>\n",
       "      <td>10386.597814</td>\n",
       "      <td>1272.600000</td>\n",
       "      <td>...</td>\n",
       "      <td>7574.677560</td>\n",
       "      <td>492.000000</td>\n",
       "      <td>4251.754800</td>\n",
       "      <td>1980.457920</td>\n",
       "      <td>593.704080</td>\n",
       "      <td>607.631040</td>\n",
       "      <td>200.000000</td>\n",
       "      <td>229.787280</td>\n",
       "      <td>1332.723960</td>\n",
       "      <td>113.524560</td>\n",
       "    </tr>\n",
       "  </tbody>\n",
       "</table>\n",
       "<p>8 rows × 45 columns</p>\n",
       "</div>"
      ],
      "text/plain": [
       "          latitude    longitude         X_UTM         Y_UTM  \\\n",
       "count  3022.000000  3022.000000  4.260000e+02  4.260000e+02   \n",
       "mean     31.095755   -33.157792  5.389457e+05  5.528470e+06   \n",
       "std      24.689600    72.000276  1.167654e+06  2.792896e+06   \n",
       "min     -42.127667  -123.197929 -4.069306e+06  1.424900e+05   \n",
       "25%      19.209942   -85.758000  3.449599e+05  3.898002e+06   \n",
       "50%      40.680000   -68.271840  4.839776e+05  5.272839e+06   \n",
       "75%      47.020601     9.592493  6.426535e+05  8.516152e+06   \n",
       "max      59.865284   176.320387  4.326346e+06  9.757262e+06   \n",
       "\n",
       "       sampling_start_month  sampling_end_month    field_size         yield  \\\n",
       "count           2138.000000         2138.000000   1329.000000  2.552000e+03   \n",
       "mean               5.653882            6.228718    549.528729  4.867523e+03   \n",
       "std                2.337050            2.211676   4348.363675  4.234786e+04   \n",
       "min                1.000000            1.000000      0.000375 -1.770894e+00   \n",
       "25%                4.000000            5.000000      0.950000  1.388622e+00   \n",
       "50%                5.000000            6.000000      2.832800  1.230000e+01   \n",
       "75%                7.000000            7.000000     10.000000  5.612232e+01   \n",
       "max               12.000000           12.000000  84573.000000  1.500000e+06   \n",
       "\n",
       "             yield2  yield_treatments_no_pollinators  ...  visit_honeybee  \\\n",
       "count   1556.000000                       925.000000  ...     1998.000000   \n",
       "mean      87.182394                        29.229014  ...       44.360567   \n",
       "std      604.942829                       136.818806  ...      338.850210   \n",
       "min       -1.414558                        -2.221444  ...        0.000000   \n",
       "25%        0.690153                         0.354346  ...        0.059535   \n",
       "50%        1.000000                         0.627165  ...        0.977406   \n",
       "75%       15.725360                         3.709500  ...        9.750000   \n",
       "max    10386.597814                      1272.600000  ...     7574.677560   \n",
       "\n",
       "       visit_bombus  visit_wildbees  visit_syrphids  visit_humbleflies  \\\n",
       "count   1990.000000     1956.000000     1816.000000        1060.000000   \n",
       "mean       3.221076        7.837136        5.375810           1.310054   \n",
       "std       22.580473      112.570643       75.685399          21.320282   \n",
       "min        0.000000        0.000000        0.000000           0.000000   \n",
       "25%        0.000000        0.000000        0.000000           0.000000   \n",
       "50%        0.000000        0.027804        0.000000           0.000000   \n",
       "75%        0.332531        0.482701        0.020779           0.000000   \n",
       "max      492.000000     4251.754800     1980.457920         593.704080   \n",
       "\n",
       "       visit_other_flies  visit_beetles  visit_lepidoptera  \\\n",
       "count        1168.000000     996.000000        1060.000000   \n",
       "mean            4.182063       0.852512           0.421118   \n",
       "std            31.143693       9.435716           8.503293   \n",
       "min             0.000000       0.000000           0.000000   \n",
       "25%             0.000000       0.000000           0.000000   \n",
       "50%             0.000000       0.000000           0.000000   \n",
       "75%             0.014174       0.000000           0.000000   \n",
       "max           607.631040     200.000000         229.787280   \n",
       "\n",
       "       visit_nonbee_hymenoptera  visit_others  \n",
       "count               1258.000000   1058.000000  \n",
       "mean                   4.640709      0.693204  \n",
       "std                   61.639296      7.405738  \n",
       "min                    0.000000      0.000000  \n",
       "25%                    0.000000      0.000000  \n",
       "50%                    0.000000      0.000000  \n",
       "75%                    0.000000      0.000000  \n",
       "max                 1332.723960    113.524560  \n",
       "\n",
       "[8 rows x 45 columns]"
      ]
     },
     "metadata": {},
     "output_type": "display_data"
    },
    {
     "name": "stdout",
     "output_type": "stream",
     "text": [
      "<class 'pandas.core.frame.DataFrame'>\n",
      "RangeIndex: 3394 entries, 0 to 3393\n",
      "Data columns (total 65 columns):\n",
      " #   Column                               Non-Null Count  Dtype  \n",
      "---  ------                               --------------  -----  \n",
      " 0   study_id                             3394 non-null   object \n",
      " 1   site_id                              3394 non-null   object \n",
      " 2   crop                                 3394 non-null   object \n",
      " 3   variety                              1642 non-null   object \n",
      " 4   management                           2163 non-null   object \n",
      " 5   country                              3394 non-null   object \n",
      " 6   latitude                             3022 non-null   float64\n",
      " 7   longitude                            3022 non-null   float64\n",
      " 8   X_UTM                                426 non-null    float64\n",
      " 9   Y_UTM                                426 non-null    float64\n",
      " 10  zone_UTM                             402 non-null    object \n",
      " 11  sampling_start_month                 2138 non-null   float64\n",
      " 12  sampling_end_month                   2138 non-null   float64\n",
      " 13  sampling_year                        3394 non-null   object \n",
      " 14  field_size                           1329 non-null   float64\n",
      " 15  yield                                2552 non-null   float64\n",
      " 16  yield_units                          2608 non-null   object \n",
      " 17  yield2                               1556 non-null   float64\n",
      " 18  yield2_units                         1624 non-null   object \n",
      " 19  yield_treatments_no_pollinators      925 non-null    float64\n",
      " 20  yield_treatments_pollen_supplement   704 non-null    float64\n",
      " 21  yield_treatments_no_pollinators2     689 non-null    float64\n",
      " 22  yield_treatments_pollen_supplement2  590 non-null    float64\n",
      " 23  fruits_per_plant                     216 non-null    float64\n",
      " 24  fruit_weight                         788 non-null    float64\n",
      " 25  plant_density                        220 non-null    float64\n",
      " 26  seeds_per_fruit                      215 non-null    float64\n",
      " 27  seeds_per_plant                      82 non-null     float64\n",
      " 28  seed_weight                          109 non-null    float64\n",
      " 29  sampling_richness                    2110 non-null   object \n",
      " 30  observed_pollinator_richness         1852 non-null   float64\n",
      " 31  other_pollinator_richness            1558 non-null   float64\n",
      " 32  other_richness_estimator_method      1569 non-null   object \n",
      " 33  richness_restriction                 1891 non-null   object \n",
      " 34  sampling_abundance                   1964 non-null   object \n",
      " 35  abundance                            2304 non-null   float64\n",
      " 36  ab_honeybee                          2278 non-null   float64\n",
      " 37  ab_bombus                            2251 non-null   float64\n",
      " 38  ab_wildbees                          2240 non-null   float64\n",
      " 39  ab_syrphids                          2143 non-null   float64\n",
      " 40  ab_humbleflies                       2134 non-null   float64\n",
      " 41  ab_other_flies                       2134 non-null   float64\n",
      " 42  ab_beetles                           2129 non-null   float64\n",
      " 43  ab_lepidoptera                       2134 non-null   float64\n",
      " 44  ab_nonbee_hymenoptera                2129 non-null   float64\n",
      " 45  ab_others                            2094 non-null   float64\n",
      " 46  total_sampled_area                   1519 non-null   float64\n",
      " 47  total_sampled_time                   1846 non-null   float64\n",
      " 48  sampling_visitation                  1836 non-null   object \n",
      " 49  visitation_rate_units                2089 non-null   object \n",
      " 50  visitation_rate                      2004 non-null   float64\n",
      " 51  visit_honeybee                       1998 non-null   float64\n",
      " 52  visit_bombus                         1990 non-null   float64\n",
      " 53  visit_wildbees                       1956 non-null   float64\n",
      " 54  visit_syrphids                       1816 non-null   float64\n",
      " 55  visit_humbleflies                    1060 non-null   float64\n",
      " 56  visit_other_flies                    1168 non-null   float64\n",
      " 57  visit_beetles                        996 non-null    float64\n",
      " 58  visit_lepidoptera                    1060 non-null   float64\n",
      " 59  visit_nonbee_hymenoptera             1258 non-null   float64\n",
      " 60  visit_others                         1058 non-null   float64\n",
      " 61  Publication                          2988 non-null   object \n",
      " 62  Credit                               3364 non-null   object \n",
      " 63  Email_contact                        3394 non-null   object \n",
      " 64  notes                                478 non-null    object \n",
      "dtypes: float64(45), object(20)\n",
      "memory usage: 1.7+ MB\n"
     ]
    },
    {
     "data": {
      "text/plain": [
       "None"
      ]
     },
     "metadata": {},
     "output_type": "display_data"
    }
   ],
   "source": [
    "display(df.describe())\n",
    "display(df.info())"
   ]
  },
  {
   "cell_type": "code",
   "execution_count": 5,
   "metadata": {},
   "outputs": [
    {
     "data": {
      "text/plain": [
       "array(['Argentina', 'Spain', 'Indonesia', 'USA', 'Tanzania', 'Ireland',\n",
       "       'Canada', 'Brazil', 'Australia', 'Mexico', 'Switzerland', 'Italy',\n",
       "       'Netherlands', 'Philippines', 'Germany', 'Sweden', 'Colombia',\n",
       "       'Poland', 'Japan', 'Norway', 'France', 'UK', 'Thailand',\n",
       "       'South Africa', 'New Zealand', 'Kenya', 'Belgium', 'Portugal',\n",
       "       'India', 'Costa Rica', 'Israel', 'China', 'Ecuador', 'Denmark'],\n",
       "      dtype=object)"
      ]
     },
     "metadata": {},
     "output_type": "display_data"
    }
   ],
   "source": [
    "countries = df['country'].unique()\n",
    "display(countries)"
   ]
  },
  {
   "cell_type": "code",
   "execution_count": 6,
   "metadata": {},
   "outputs": [],
   "source": [
    "countries_Europe = ['Spain', 'Ireland', 'Switzerland', 'Italy', 'Netherlands','Germany', 'Sweden', 'Poland', 'Norway', 'France', 'UK', \n",
    "                    'Belgium', 'Portugal', 'Denmark']"
   ]
  },
  {
   "cell_type": "code",
   "execution_count": 7,
   "metadata": {},
   "outputs": [],
   "source": [
    "df_europe = df[df['country'].isin(countries_Europe)]"
   ]
  },
  {
   "cell_type": "code",
   "execution_count": 10,
   "metadata": {},
   "outputs": [
    {
     "data": {
      "text/plain": [
       "(1027, 65)"
      ]
     },
     "execution_count": 10,
     "metadata": {},
     "output_type": "execute_result"
    }
   ],
   "source": [
    "df_europe.shape"
   ]
  },
  {
   "cell_type": "code",
   "execution_count": 11,
   "metadata": {},
   "outputs": [
    {
     "data": {
      "text/plain": [
       "array(['Rubus idaeus', 'Fragaria x ananassa', 'Coffea arabica',\n",
       "       'Coffea canephora', 'Prunus dulcis', 'Brassica napus',\n",
       "       'Vaccinium corymbosum', 'Passiflora edulis',\n",
       "       'Anacardium occidentale', 'Annona muricata', 'Annona squamosa',\n",
       "       'Bixa orellana', 'Gossypium hirsutum', 'Malpighia emarginata',\n",
       "       'Mangifera indica', 'Persea americana', 'Macadamia integrifolia',\n",
       "       'Prunus avium', 'Phaseolus vulgaris L.', 'Allium porrum',\n",
       "       'Malus domestica', 'Pyrus communis', 'Vaccinium macrocarpon',\n",
       "       'Abelmoschus esculentus', 'Cucumis sativus', 'Lagenaria siceraria',\n",
       "       'Luffa acutangula', 'Momordica charantia', 'Brassica rapa',\n",
       "       'Vaccinium meridionale', 'Fagopyrum esculentum',\n",
       "       'Citrullus lanatus', 'Cucurbita pepo', 'Malus pumila',\n",
       "       'Prunus cerasus', 'Trifolium pratense', 'Helianthus annuus',\n",
       "       'Vicia faba', 'Psidium guajava', 'Actinidia deliciosa',\n",
       "       'Cajanus cajan', 'Citrus limon', 'Citrus paradisi',\n",
       "       'Capsicum annuum', 'Cucumis melo', 'Solanum lycopersicum',\n",
       "       'Annona squamosa atemoya', 'Coffea arabica/robusta',\n",
       "       'Actinidia chinensis'], dtype=object)"
      ]
     },
     "execution_count": 11,
     "metadata": {},
     "output_type": "execute_result"
    }
   ],
   "source": [
    "allCrops = df['crop'].unique()\n",
    "allCrops"
   ]
  },
  {
   "cell_type": "code",
   "execution_count": 12,
   "metadata": {},
   "outputs": [],
   "source": [
    "topCrop = ['Malus domestica', 'Prunus avium', 'Prunus dulcis', 'Vaccinium corymbosum']"
   ]
  },
  {
   "cell_type": "code",
   "execution_count": 13,
   "metadata": {},
   "outputs": [
    {
     "data": {
      "text/plain": [
       "(336, 65)"
      ]
     },
     "execution_count": 13,
     "metadata": {},
     "output_type": "execute_result"
    }
   ],
   "source": [
    "df_europe_topCrop = df_europe[df_europe['crop'].isin(topCrop)]\n",
    "df_europe_topCrop.shape"
   ]
  },
  {
   "cell_type": "code",
   "execution_count": 14,
   "metadata": {},
   "outputs": [
    {
     "data": {
      "text/plain": [
       "(1173, 65)"
      ]
     },
     "execution_count": 14,
     "metadata": {},
     "output_type": "execute_result"
    }
   ],
   "source": [
    "df_topCrop = df[df['crop'].isin(topCrop)]\n",
    "df_topCrop.shape"
   ]
  },
  {
   "cell_type": "code",
   "execution_count": 17,
   "metadata": {},
   "outputs": [
    {
     "data": {
      "text/plain": [
       "array(['Amparo_Lazaro_Prunus_dulcis_Spain_2015',\n",
       "       'Amparo_Lazaro_Prunus_dulcis_Spain_2016',\n",
       "       'Christof_Schuepp_Prunus_avium_Switzerland_2011',\n",
       "       'David_Kleijn_Malus_domestica_Netherlands_2010',\n",
       "       'David_Kleijn_Malus_domestica_Netherlands_2011',\n",
       "       'David_Kleijn_Malus_domestica_Netherlands_2013',\n",
       "       'David_Kleijn_Malus_domestica_Netherlands_2014',\n",
       "       'David_Kleijn_Vaccinium_corymbosum_Netherlands_2013',\n",
       "       'David_Kleijn_Vaccinium_corymbosum_Netherlands_2014',\n",
       "       'Jens_Astrom_Malus_domestica_Norway_2013',\n",
       "       'Katherine_LW_Burns_Malus_domestica_Ireland_2018',\n",
       "       'Marcos_Minarro_Malus_domestica_Spain_2015',\n",
       "       'Marcos_Minarro_Malus_domestica_Spain_2016',\n",
       "       'Michael_Garratt_Malus_domestica_UK_2011',\n",
       "       'Nicolas_J_Vereecken_Malus_domestica_France_2016',\n",
       "       'Nicolas_J_Vereecken_Malus_domestica_Belgium_2019',\n",
       "       'Nicolas_J_Vereecken_Malus_domestica_France_2019',\n",
       "       'Nicolas_J_Vereecken_Malus_domestica_Belgium_2017',\n",
       "       'Nicolas_J_Vereecken_Vaccinium_corymbosum_Belgium_2017',\n",
       "       'Nicolas_J_Vereecken_Malus_domestica_Belgium_2016',\n",
       "       'Virginie_Boreux_Malus_domestica_Germany_2015',\n",
       "       'Ariza_etal_sweetcherry_Belgium_2019',\n",
       "       'Ariza_etal_apple_Belgium_2019',\n",
       "       'Eeraerts_etal_sweetcherry_Belgium_2015',\n",
       "       'Eeraerts_etal_sweetcherry_Belgium_2016',\n",
       "       'Eeraerts_etal_sweetcherry_Belgium_2017'], dtype=object)"
      ]
     },
     "execution_count": 17,
     "metadata": {},
     "output_type": "execute_result"
    }
   ],
   "source": [
    "id_df_europe_topCrop = df_europe_topCrop['study_id'].unique()\n",
    "id_df_europe_topCrop"
   ]
  },
  {
   "cell_type": "code",
   "execution_count": 18,
   "metadata": {},
   "outputs": [
    {
     "name": "stdout",
     "output_type": "stream",
     "text": [
      "(76,)\n"
     ]
    },
    {
     "data": {
      "text/plain": [
       "array(['Alejandro_Trillo_Fragaria_ananassa_Spain_2016',\n",
       "       'Alison_D_Oreilly_Brassica_napus_Ireland_2019',\n",
       "       'Amparo_Lazaro_Prunus_dulcis_Spain_2015',\n",
       "       'Amparo_Lazaro_Prunus_dulcis_Spain_2016',\n",
       "       'Christof_Schuepp_Prunus_avium_Switzerland_2011',\n",
       "       'Dara_Stanley_Brassica_napus_Ireland_2009',\n",
       "       'Dara_Stanley_Brassica_napus_Ireland_2010',\n",
       "       'David_Kleijn_Allium_porrum_Italy_2012',\n",
       "       'David_Kleijn_Malus_domestica_Netherlands_2010',\n",
       "       'David_Kleijn_Malus_domestica_Netherlands_2011',\n",
       "       'David_Kleijn_Malus_domestica_Netherlands_2013',\n",
       "       'David_Kleijn_Malus_domestica_Netherlands_2014',\n",
       "       'David_Kleijn_Pyrus_communis_Netherlands_2010',\n",
       "       'David_Kleijn_Pyrus_communis_Netherlands_2011',\n",
       "       'David_Kleijn_Vaccinium_corymbosum_Netherlands_2013',\n",
       "       'David_Kleijn_Vaccinium_corymbosum_Netherlands_2014',\n",
       "       'Frank_Jauker_Brassica_napus_Germany_2006',\n",
       "       'Georg_Andersson_Brassica_rapa_Sweden_2010',\n",
       "       'Georg_Andersson_Fragaria_ananassa_Sweden_2009',\n",
       "       'Hajnalka_Szentgyorgyi_Fagopyrum_esculentum_Poland_2005',\n",
       "       'Ignasi_Bartomeus_Brassica_napus_Sweden_2013',\n",
       "       'Jens_Astrom_Malus_domestica_Norway_2013',\n",
       "       'Jens_Astrom_Trifolium_pratense_Norway_2013',\n",
       "       'Jens_Astrom_Trifolium_pratense_Norway_2014',\n",
       "       'Jeroen_Scheper_Brassica_napus_Netherlands_2011',\n",
       "       'Jeroen_Scheper_Brassica_napus_several_countries_2012',\n",
       "       'Jeroen_Scheper_Helianthus_annuus_France_2015',\n",
       "       'Jessica_Knapp_Cucurbita_pepo_UK_2016',\n",
       "       'Johan_Ekroos_Vicia_faba_Sweden_2016',\n",
       "       'Katherine_LW_Burns_Malus_domestica_Ireland_2018',\n",
       "       'Katherine_LW_Burns_Vicia_faba_Ireland_2018',\n",
       "       'Katherine_LW_Burns_Vicia_faba_Ireland_2019',\n",
       "       'Louis_Sutter_Brassica_napus_Switzerland_2014',\n",
       "       'Maj_Rundlof_Brassica_napus_Sweden_2011',\n",
       "       'Maj_Rundlof_Brassica_napus_Sweden_2012',\n",
       "       'Marcos_Minarro_Malus_domestica_Spain_2015',\n",
       "       'Marcos_Minarro_Malus_domestica_Spain_2016',\n",
       "       'Michael_Garratt_Brassica_napus_UK_2012',\n",
       "       'Michael_Garratt_Fragaria_ananassa_UK_2011',\n",
       "       'Michael_Garratt_Malus_domestica_UK_2011',\n",
       "       'Michael_Garratt_Vicia_faba_UK_2011',\n",
       "       'Nicolas_J_Vereecken_Brassica_napus_France_2016',\n",
       "       'Nicolas_J_Vereecken_Malus_domestica_France_2016',\n",
       "       'Nicolas_J_Vereecken_Malus_domestica_Belgium_2019',\n",
       "       'Nicolas_J_Vereecken_Malus_domestica_France_2019',\n",
       "       'Nicolas_J_Vereecken_Malus_domestica_Belgium_2017',\n",
       "       'Nicolas_J_Vereecken_Rubus_idaeus_Belgium_2017',\n",
       "       'Nicolas_J_Vereecken_Vaccinium_corymbosum_Belgium_2017',\n",
       "       'Nicolas_J_Vereecken_Malus_domestica_Belgium_2016',\n",
       "       'Nicolas_J_Vereecken_Brassica_napus_Belgium_2019',\n",
       "       'Nicolas_J_Vereecken_Fragaria_x_ananassa_Belgium_2019',\n",
       "       'Nicolas_J_Vereecken_Pyrus_communis_Belgium_2019',\n",
       "       'Rebecca_Steward_Fragaria_ananassa_Sweden_2014',\n",
       "       'Riccardo_Bommarco_Brassica_napus_Sweden_2005',\n",
       "       'Riccardo_Bommarco_Brassica_napus_Sweden_2009',\n",
       "       'Riccardo_Bommarco_Trifolium_pratense_Sweden_2008',\n",
       "       'Riccardo_Bommarco_Trifolium_pratense_Sweden_2009',\n",
       "       'Riccardo_Bommarco_Trifolium_pratense_Sweden_2010',\n",
       "       'Sandra_Lindstrom_Brassica_napus_Sweden_2011',\n",
       "       'Sandra_Lindstrom_Brassica_napus_Sweden_2012',\n",
       "       'Silvia_Castro_Actinidia_deliciosa_Portugal_2018',\n",
       "       'Silvia_Castro_Actinidia_deliciosa_Portugal_2019',\n",
       "       'Silvia_Castro_Helianthus_annuus_Spain_2017',\n",
       "       'Silvia_Castro_Helianthus_annuus_Spain_2018',\n",
       "       'Simon_Potts_Vicia_faba_UK_2005',\n",
       "       'Thijs_Fijen_Allium_porrum_France_2016',\n",
       "       'Thijs_Fijen_Allium_porrum_Italy_2016',\n",
       "       'Violeta_Hevia_Helianthus_annuus_Spain_2017',\n",
       "       'Virginie_Boreux_Malus_domestica_Germany_2015',\n",
       "       'Ariza_etal_sweetcherry_Belgium_2019',\n",
       "       'Ariza_etal_apple_Belgium_2019', 'Dupont_redclover_Denmark_2008',\n",
       "       'Dupont_redclover_Denmark_2009',\n",
       "       'Eeraerts_etal_sweetcherry_Belgium_2015',\n",
       "       'Eeraerts_etal_sweetcherry_Belgium_2016',\n",
       "       'Eeraerts_etal_sweetcherry_Belgium_2017'], dtype=object)"
      ]
     },
     "execution_count": 18,
     "metadata": {},
     "output_type": "execute_result"
    }
   ],
   "source": [
    "id_df_europe = df_europe['study_id'].unique()\n",
    "print(id_df_europe.shape)\n",
    "id_df_europe"
   ]
  },
  {
   "cell_type": "code",
   "execution_count": 20,
   "metadata": {},
   "outputs": [],
   "source": [
    "df_europe_topCrop.to_csv(\"shortlist.csv\")"
   ]
  },
  {
   "cell_type": "code",
   "execution_count": 21,
   "metadata": {},
   "outputs": [
    {
     "data": {
      "text/plain": [
       "(69, 65)"
      ]
     },
     "execution_count": 21,
     "metadata": {},
     "output_type": "execute_result"
    }
   ],
   "source": [
    "cherryStudies = ['Christof_Schuepp_Prunus_avium_Switzerland_2011', 'Ariza_etal_sweetcherry_Belgium_2019', 'Eeraerts_etal_sweetcherry_Belgium_2015', 'Eeraerts_etal_sweetcherry_Belgium_2016', 'Eeraerts_etal_sweetcherry_Belgium_2017']\n",
    "df_cherry = df_europe[df_europe['study_id'].isin(cherryStudies)]\n",
    "df_cherry.shape"
   ]
  },
  {
   "cell_type": "code",
   "execution_count": 22,
   "metadata": {},
   "outputs": [
    {
     "data": {
      "text/plain": [
       "Index(['study_id', 'site_id', 'crop', 'variety', 'management', 'country',\n",
       "       'latitude', 'longitude', 'X_UTM', 'Y_UTM', 'zone_UTM',\n",
       "       'sampling_start_month', 'sampling_end_month', 'sampling_year',\n",
       "       'field_size', 'yield', 'yield_units', 'yield2', 'yield2_units',\n",
       "       'yield_treatments_no_pollinators', 'yield_treatments_pollen_supplement',\n",
       "       'yield_treatments_no_pollinators2',\n",
       "       'yield_treatments_pollen_supplement2', 'fruits_per_plant',\n",
       "       'fruit_weight', 'plant_density', 'seeds_per_fruit', 'seeds_per_plant',\n",
       "       'seed_weight', 'sampling_richness', 'observed_pollinator_richness',\n",
       "       'other_pollinator_richness', 'other_richness_estimator_method',\n",
       "       'richness_restriction', 'sampling_abundance', 'abundance',\n",
       "       'ab_honeybee', 'ab_bombus', 'ab_wildbees', 'ab_syrphids',\n",
       "       'ab_humbleflies', 'ab_other_flies', 'ab_beetles', 'ab_lepidoptera',\n",
       "       'ab_nonbee_hymenoptera', 'ab_others', 'total_sampled_area',\n",
       "       'total_sampled_time', 'sampling_visitation', 'visitation_rate_units',\n",
       "       'visitation_rate', 'visit_honeybee', 'visit_bombus', 'visit_wildbees',\n",
       "       'visit_syrphids', 'visit_humbleflies', 'visit_other_flies',\n",
       "       'visit_beetles', 'visit_lepidoptera', 'visit_nonbee_hymenoptera',\n",
       "       'visit_others', 'Publication', 'Credit', 'Email_contact', 'notes'],\n",
       "      dtype='object')"
      ]
     },
     "execution_count": 22,
     "metadata": {},
     "output_type": "execute_result"
    }
   ],
   "source": [
    "df_cherry.columns"
   ]
  },
  {
   "cell_type": "code",
   "execution_count": 23,
   "metadata": {},
   "outputs": [
    {
     "name": "stderr",
     "output_type": "stream",
     "text": [
      "C:\\Users\\psabi\\AppData\\Local\\Temp\\ipykernel_11168\\2971056097.py:1: SettingWithCopyWarning: \n",
      "A value is trying to be set on a copy of a slice from a DataFrame\n",
      "\n",
      "See the caveats in the documentation: https://pandas.pydata.org/pandas-docs/stable/user_guide/indexing.html#returning-a-view-versus-a-copy\n",
      "  df_cherry.drop(['yield2', 'yield2_units',\n"
     ]
    },
    {
     "data": {
      "text/plain": [
       "(69, 53)"
      ]
     },
     "execution_count": 23,
     "metadata": {},
     "output_type": "execute_result"
    }
   ],
   "source": [
    "df_cherry.drop(['yield2', 'yield2_units',\n",
    "       'yield_treatments_no_pollinators', 'yield_treatments_pollen_supplement',\n",
    "       'yield_treatments_no_pollinators2',\n",
    "       'yield_treatments_pollen_supplement2', 'fruits_per_plant',\n",
    "       'fruit_weight', 'plant_density', 'seeds_per_fruit', 'seeds_per_plant',\n",
    "       'seed_weight'], axis=1, inplace=True)\n",
    "df_cherry.shape"
   ]
  },
  {
   "cell_type": "code",
   "execution_count": 24,
   "metadata": {},
   "outputs": [
    {
     "name": "stderr",
     "output_type": "stream",
     "text": [
      "C:\\Users\\psabi\\AppData\\Local\\Temp\\ipykernel_11168\\92819303.py:1: SettingWithCopyWarning: \n",
      "A value is trying to be set on a copy of a slice from a DataFrame\n",
      "\n",
      "See the caveats in the documentation: https://pandas.pydata.org/pandas-docs/stable/user_guide/indexing.html#returning-a-view-versus-a-copy\n",
      "  df_cherry.drop(['Publication', 'Credit', 'Email_contact', 'notes', 'X_UTM', 'Y_UTM','zone_UTM',\n"
     ]
    },
    {
     "data": {
      "text/plain": [
       "(69, 44)"
      ]
     },
     "execution_count": 24,
     "metadata": {},
     "output_type": "execute_result"
    }
   ],
   "source": [
    "df_cherry.drop(['Publication', 'Credit', 'Email_contact', 'notes', 'X_UTM', 'Y_UTM','zone_UTM',\n",
    "       'sampling_start_month', 'sampling_end_month'], axis=1, inplace=True)\n",
    "df_cherry.shape"
   ]
  },
  {
   "cell_type": "code",
   "execution_count": 32,
   "metadata": {},
   "outputs": [
    {
     "data": {
      "text/plain": [
       "(35, 65)"
      ]
     },
     "execution_count": 32,
     "metadata": {},
     "output_type": "execute_result"
    }
   ],
   "source": [
    "almondStudies = ['Amparo_Lazaro_Prunus_dulcis_Spain_2015', 'Amparo_Lazaro_Prunus_dulcis_Spain_2016']\n",
    "df_almond = df_europe[df_europe['study_id'].isin(almondStudies)]\n",
    "df_almond.shape"
   ]
  },
  {
   "cell_type": "code",
   "execution_count": 33,
   "metadata": {},
   "outputs": [
    {
     "name": "stderr",
     "output_type": "stream",
     "text": [
      "C:\\Users\\psabi\\AppData\\Local\\Temp\\ipykernel_11168\\1255304005.py:1: SettingWithCopyWarning: \n",
      "A value is trying to be set on a copy of a slice from a DataFrame\n",
      "\n",
      "See the caveats in the documentation: https://pandas.pydata.org/pandas-docs/stable/user_guide/indexing.html#returning-a-view-versus-a-copy\n",
      "  df_almond.drop(['Publication', 'Credit', 'Email_contact', 'notes', 'X_UTM', 'Y_UTM','zone_UTM',\n"
     ]
    },
    {
     "data": {
      "text/plain": [
       "(35, 42)"
      ]
     },
     "execution_count": 33,
     "metadata": {},
     "output_type": "execute_result"
    }
   ],
   "source": [
    "df_almond.drop(['Publication', 'Credit', 'Email_contact', 'notes', 'X_UTM', 'Y_UTM','zone_UTM',\n",
    "       'sampling_start_month', 'sampling_end_month', 'yield2', 'yield2_units',\n",
    "       'yield_treatments_no_pollinators', 'yield_treatments_pollen_supplement',\n",
    "       'yield_treatments_no_pollinators2',\n",
    "       'yield_treatments_pollen_supplement2', 'fruit_weight', 'plant_density', 'seeds_per_fruit', 'seeds_per_plant',\n",
    "       'seed_weight', 'sampling_richness','other_pollinator_richness', 'other_richness_estimator_method'], axis=1, inplace=True)\n",
    "df_almond.shape"
   ]
  },
  {
   "cell_type": "code",
   "execution_count": 37,
   "metadata": {},
   "outputs": [
    {
     "name": "stderr",
     "output_type": "stream",
     "text": [
      "C:\\Users\\psabi\\AppData\\Local\\Temp\\ipykernel_11168\\3223104749.py:1: SettingWithCopyWarning: \n",
      "A value is trying to be set on a copy of a slice from a DataFrame\n",
      "\n",
      "See the caveats in the documentation: https://pandas.pydata.org/pandas-docs/stable/user_guide/indexing.html#returning-a-view-versus-a-copy\n",
      "  df_almond.drop(['visit_others'], axis=1, inplace=True)\n"
     ]
    },
    {
     "data": {
      "text/plain": [
       "(35, 30)"
      ]
     },
     "execution_count": 37,
     "metadata": {},
     "output_type": "execute_result"
    }
   ],
   "source": [
    "df_almond.drop(['visit_others'], axis=1, inplace=True)\n",
    "df_almond.shape"
   ]
  },
  {
   "cell_type": "code",
   "execution_count": 38,
   "metadata": {},
   "outputs": [
    {
     "data": {
      "text/plain": [
       "(33, 65)"
      ]
     },
     "execution_count": 38,
     "metadata": {},
     "output_type": "execute_result"
    }
   ],
   "source": [
    "bbStudies = ['David_Kleijn_Vaccinium_corymbosum_Netherlands_2013', 'David_Kleijn_Vaccinium_corymbosum_Netherlands_2014', 'Nicolas_J_Vereecken_Vaccinium_corymbosum_Belgium_2017']\n",
    "df_bb = df_europe[df_europe['study_id'].isin(bbStudies)]\n",
    "df_bb.shape"
   ]
  },
  {
   "cell_type": "code",
   "execution_count": 39,
   "metadata": {},
   "outputs": [
    {
     "name": "stderr",
     "output_type": "stream",
     "text": [
      "C:\\Users\\psabi\\AppData\\Local\\Temp\\ipykernel_11168\\3636896799.py:1: SettingWithCopyWarning: \n",
      "A value is trying to be set on a copy of a slice from a DataFrame\n",
      "\n",
      "See the caveats in the documentation: https://pandas.pydata.org/pandas-docs/stable/user_guide/indexing.html#returning-a-view-versus-a-copy\n",
      "  df_bb.drop(['crop', 'sampling_visitation', 'visitation_rate_units',\n"
     ]
    },
    {
     "data": {
      "text/plain": [
       "(33, 30)"
      ]
     },
     "execution_count": 39,
     "metadata": {},
     "output_type": "execute_result"
    }
   ],
   "source": [
    "df_bb.drop(['crop', 'sampling_visitation', 'visitation_rate_units',\n",
    "       'visitation_rate', 'visit_honeybee', 'visit_bombus', 'visit_wildbees',\n",
    "       'visit_syrphids', 'visit_humbleflies', 'visit_other_flies',\n",
    "       'visit_beetles', 'visit_lepidoptera', 'visit_nonbee_hymenoptera',\n",
    "       'visit_others', 'Publication', 'Credit', 'Email_contact', 'notes', 'country',\n",
    "       'latitude', 'longitude', 'X_UTM', 'Y_UTM', 'zone_UTM',\n",
    "       'sampling_start_month', 'sampling_end_month', 'sampling_year', 'yield_treatments_no_pollinators', 'yield_treatments_pollen_supplement', 'fruits_per_plant',\n",
    "       'fruit_weight', 'plant_density', 'seeds_per_fruit', 'seeds_per_plant',\n",
    "       'seed_weight'], axis=1, inplace=True)\n",
    "df_bb.shape"
   ]
  }
 ],
 "metadata": {
  "kernelspec": {
   "display_name": "CAB",
   "language": "python",
   "name": "python3"
  },
  "language_info": {
   "codemirror_mode": {
    "name": "ipython",
    "version": 3
   },
   "file_extension": ".py",
   "mimetype": "text/x-python",
   "name": "python",
   "nbconvert_exporter": "python",
   "pygments_lexer": "ipython3",
   "version": "3.10.12"
  }
 },
 "nbformat": 4,
 "nbformat_minor": 2
}
